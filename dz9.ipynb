{
  "nbformat": 4,
  "nbformat_minor": 0,
  "metadata": {
    "colab": {
      "provenance": [],
      "authorship_tag": "ABX9TyNXVuxWrY1hcA1GKw8Et7ZW",
      "include_colab_link": true
    },
    "kernelspec": {
      "name": "python3",
      "display_name": "Python 3"
    },
    "language_info": {
      "name": "python"
    }
  },
  "cells": [
    {
      "cell_type": "markdown",
      "metadata": {
        "id": "view-in-github",
        "colab_type": "text"
      },
      "source": [
        "<a href=\"https://colab.research.google.com/github/Konovalova1924/Python_practic/blob/main/dz9.ipynb\" target=\"_parent\"><img src=\"https://colab.research.google.com/assets/colab-badge.svg\" alt=\"Open In Colab\"/></a>"
      ]
    },
    {
      "cell_type": "markdown",
      "source": [
        "Задача1:\n",
        "Дан файл california_housing_train.csv. Определить среднюю стоимость дома , где количество людей от 0 до 500 (population) и сохранить ее в переменную avg.\n",
        "Используйте модуль pandas.\n"
      ],
      "metadata": {
        "id": "OLNk3a5UA6V6"
      }
    },
    {
      "cell_type": "code",
      "source": [
        "import pandas as pd\n",
        "df = pd.read_csv('sample_data/california_housing_train.csv')\n",
        "pop = df['population']<=500\n",
        "avg = df[pop]['median_house_value'].mean()\n",
        "print(avg)"
      ],
      "metadata": {
        "colab": {
          "base_uri": "https://localhost:8080/"
        },
        "id": "4QrMus6vA-3c",
        "outputId": "1995f75d-7912-4f38-e4c5-9cc0c447cb68"
      },
      "execution_count": 2,
      "outputs": [
        {
          "output_type": "stream",
          "name": "stdout",
          "text": [
            "206799.95140186916\n"
          ]
        }
      ]
    },
    {
      "cell_type": "markdown",
      "source": [
        "Задача2:\n",
        "Дан файл california_housing_train.csv.\n",
        "Найти максимальное значение переменной \"households\" в зоне минимального значения переменной min_population и сохраните это значение в переменную max_households_in_min_population.\n",
        "Используйте модуль pandas."
      ],
      "metadata": {
        "id": "QEqUCVfsBMqn"
      }
    },
    {
      "cell_type": "code",
      "source": [
        "import pandas as pd\n",
        "df = pd.read_csv('sample_data/california_housing_train.csv')\n",
        "min_population = df['population'] == df['population'].min()\n",
        "max_households_in_min_population = df[min_population]['households'].max()\n",
        "print(max_households_in_min_population)"
      ],
      "metadata": {
        "colab": {
          "base_uri": "https://localhost:8080/"
        },
        "id": "X_RvjpqiBVyd",
        "outputId": "a7ffe815-de29-4904-9c32-0a285dcd353f"
      },
      "execution_count": 4,
      "outputs": [
        {
          "output_type": "stream",
          "name": "stdout",
          "text": [
            "4.0\n"
          ]
        }
      ]
    }
  ]
}